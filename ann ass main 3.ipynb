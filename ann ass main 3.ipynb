{
 "cells": [
  {
   "cell_type": "markdown",
   "id": "17d4db76",
   "metadata": {},
   "source": [
    "# Problem Statement:- \n",
    "### Write a Python Program using Perceptron Neural Network to recognise even and odd numbers. Given numbers are in ASCII form 0 to 9 # "
   ]
  },
  {
   "cell_type": "code",
   "execution_count": 3,
   "id": "2030949c",
   "metadata": {},
   "outputs": [],
   "source": [
    "import numpy as np\n",
    "\n",
    "class Perceptron:\n",
    "    weights = None\n",
    "    bias = None\n",
    "    \n",
    "    @staticmethod\n",
    "    def predict(inputs):\n",
    "        summation = np.dot(Perceptron.weights, inputs) + Perceptron.bias\n",
    "        return 1 if summation >= 0 else 0\n",
    "    \n",
    "    @staticmethod\n",
    "    def train(training_inputs, labels, epochs):\n",
    "        Perceptron.weights = np.zeros(training_inputs.shape[1])\n",
    "        Perceptron.bias = 0\n",
    "        \n",
    "        for _ in range(epochs):\n",
    "            for inputs, label in zip(training_inputs, labels):\n",
    "                prediction = Perceptron.predict(inputs)\n",
    "                Perceptron.weights += (label - prediction) * inputs\n",
    "                Perceptron.bias += (label - prediction)\n",
    "\n",
    "training_data = np.array([[i % 2] for i in range(256)])\n",
    "labels = np.array([0 if i % 2 == 0 else 1 for i in range(256)])\n",
    "Perceptron.train(training_data, labels, epochs=1000)"
   ]
  },
  {
   "cell_type": "code",
   "execution_count": 2,
   "id": "34b1b62e",
   "metadata": {},
   "outputs": [
    {
     "name": "stdout",
     "output_type": "stream",
     "text": [
      "Enter a number: 3\n",
      "Number: 3 \n",
      "Prediction: Odd\n"
     ]
    }
   ],
   "source": [
    "test_number = int(input(\"Enter a number: \"))\n",
    "prediction = Perceptron.predict([test_number % 2])\n",
    "result = \"Even\" if prediction == 0 else \"Odd\"\n",
    "print(\"Number:\", test_number, \"\\nPrediction:\", result)"
   ]
  },
  {
   "cell_type": "code",
   "execution_count": null,
   "id": "88022dc9",
   "metadata": {},
   "outputs": [],
   "source": []
  }
 ],
 "metadata": {
  "kernelspec": {
   "display_name": "Python 3 (ipykernel)",
   "language": "python",
   "name": "python3"
  },
  "language_info": {
   "codemirror_mode": {
    "name": "ipython",
    "version": 3
   },
   "file_extension": ".py",
   "mimetype": "text/x-python",
   "name": "python",
   "nbconvert_exporter": "python",
   "pygments_lexer": "ipython3",
   "version": "3.9.7"
  }
 },
 "nbformat": 4,
 "nbformat_minor": 5
}

{
 "cells": [
  {
   "cell_type": "markdown",
   "id": "21789c30",
   "metadata": {},
   "source": [
    "# Problem Satement:- \n",
    "### With a suitable example demonstrate the perceptron learning law with its decision regions using python. Give the output in graphical form."
   ]
  },
  {
   "cell_type": "code",
   "execution_count": 1,
   "id": "9b41081f",
   "metadata": {},
   "outputs": [],
   "source": [
    "import numpy as np\n",
    "import matplotlib.pyplot as plt"
   ]
  },
  {
   "cell_type": "code",
   "execution_count": 2,
   "id": "62536d2f",
   "metadata": {},
   "outputs": [],
   "source": [
    "# Define the training data\n",
    "X = np.array([[1, 1], [2, 1], [2, 2], [1, 3], [4, 5], [5, 5], [5, 6], [4, 7]])\n",
    "y = np.array([0, 0, 0, 0, 1, 1, 1, 1])"
   ]
  },
  {
   "cell_type": "code",
   "execution_count": 3,
   "id": "e13f032b",
   "metadata": {},
   "outputs": [],
   "source": [
    "# Initialize the weights and bias\n",
    "w = np.random.rand(2)\n",
    "b = np.random.rand(1)"
   ]
  },
  {
   "cell_type": "code",
   "execution_count": 4,
   "id": "11bcac52",
   "metadata": {},
   "outputs": [],
   "source": [
    "# Define the perceptron learning algorithm\n",
    "def perceptron_learning(X, y, w, b, learning_rate, num_epochs):\n",
    "    errors = []\n",
    "    for epoch in range(num_epochs):\n",
    "        error = 0\n",
    "        for xi, target in zip(X, y):\n",
    "            # Compute the activation\n",
    "            activation = np.dot(xi, w) + b\n",
    "\n",
    "            # Apply the activation function (step function)\n",
    "            if activation >= 0:\n",
    "                prediction = 1\n",
    "            else:\n",
    "                prediction = 0\n",
    "\n",
    "            # Update the weights and bias\n",
    "            update = learning_rate * (target - prediction)\n",
    "            w += update * xi\n",
    "            b += update\n",
    "\n",
    "            # Accumulate the error\n",
    "            error += int(update != 0)\n",
    "\n",
    "        errors.append(error)\n",
    "        if error == 0:\n",
    "            break\n",
    "\n",
    "    return w, b, errors\n"
   ]
  },
  {
   "cell_type": "code",
   "execution_count": 5,
   "id": "527dcda8",
   "metadata": {},
   "outputs": [],
   "source": [
    "# Run the perceptron learning algorithm\n",
    "learning_rate = 0.1\n",
    "num_epochs = 100\n",
    "w, b, errors = perceptron_learning(X, y, w, b, learning_rate, num_epochs)"
   ]
  },
  {
   "cell_type": "code",
   "execution_count": 6,
   "id": "a1b43c4f",
   "metadata": {},
   "outputs": [
    {
     "data": {
      "image/png": "[encoded data removed]",
      "text/plain": [
       "<Figure size 800x600 with 1 Axes>"
      ]
     },
     "metadata": {},
     "output_type": "display_data"
    }
   ],
   "source": [
    "# Visualize the decision regions\n",
    "x1 = np.linspace(0, 6, 100)\n",
    "x2 = np.linspace(0, 8, 100)\n",
    "X1, X2 = np.meshgrid(x1, x2)\n",
    "Z = np.zeros_like(X1)\n",
    "\n",
    "for i in range(len(x1)):\n",
    "    for j in range(len(x2)):\n",
    "        xi = np.array([x1[i], x2[j]])\n",
    "        Z[j, i] = np.dot(xi, w) + b\n",
    "\n",
    "plt.figure(figsize=(8, 6))\n",
    "plt.contourf(X1, X2, Z, levels=1, colors=('blue', 'orange'), alpha=0.2)\n",
    "plt.scatter(X[:, 0], X[:, 1], c=y, cmap='bwr')\n",
    "plt.xlabel('x1')\n",
    "plt.ylabel('x2')\n",
    "plt.title('Perceptron Decision Regions')\n",
    "plt.xlim(0, 6)\n",
    "plt.ylim(0, 8)\n",
    "plt.show()"
   ]
  },
  {
   "cell_type": "code",
   "execution_count": null,
   "id": "8fc39d4b",
   "metadata": {},
   "outputs": [],
   "source": []
  }
 ],
 "metadata": {
  "kernelspec": {
   "display_name": "Python 3 (ipykernel)",
   "language": "python",
   "name": "python3"
  },
  "language_info": {
   "codemirror_mode": {
    "name": "ipython",
    "version": 3
   },
   "file_extension": ".py",
   "mimetype": "text/x-python",
   "name": "python",
   "nbconvert_exporter": "python",
   "pygments_lexer": "ipython3",
   "version": "3.9.7"
  }
 },
 "nbformat": 4,
 "nbformat_minor": 5
}

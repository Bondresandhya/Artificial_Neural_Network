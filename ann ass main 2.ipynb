{
 "cells": [
  {
   "cell_type": "code",
   "execution_count": 1,
   "id": "6465e685",
   "metadata": {},
   "outputs": [],
   "source": [
    "def mac_culloch_pits(inputs, weights, threshold):\n",
    "    weighted_sum= sum([x*w for x,w in zip(inputs,weights)])\n",
    "    output = 1 if weighted_sum >= threshold else 0\n",
    "    return output"
   ]
  },
  {
   "cell_type": "markdown",
   "id": "ce2c3d8f",
   "metadata": {},
   "source": [
    "# ANDNOT"
   ]
  },
  {
   "cell_type": "code",
   "execution_count": 6,
   "id": "8a5703f7",
   "metadata": {},
   "outputs": [],
   "source": [
    "def ANDNOT(x1,x2):\n",
    "    inputs = [x1,x2]\n",
    "    weights = [-1,1]\n",
    "    threshold = 1\n",
    "    return mac_culloch_pits(inputs, weights, threshold)"
   ]
  },
  {
   "cell_type": "code",
   "execution_count": 7,
   "id": "470386ab",
   "metadata": {},
   "outputs": [
    {
     "name": "stdout",
     "output_type": "stream",
     "text": [
      "ANDNOT(0,0) =  0\n",
      "ANDNOT(0,1) =  1\n",
      "ANDNOT(1,0) =  0\n",
      "ANDNOT(1,1) =  0\n"
     ]
    }
   ],
   "source": [
    "print(\"ANDNOT(0,0) = \", ANDNOT(0,0))\n",
    "print(\"ANDNOT(0,1) = \", ANDNOT(0,1))\n",
    "print(\"ANDNOT(1,0) = \", ANDNOT(1,0))\n",
    "print(\"ANDNOT(1,1) = \", ANDNOT(1,1),)"
   ]
  },
  {
   "cell_type": "markdown",
   "id": "0ab7da57",
   "metadata": {},
   "source": [
    "# AND"
   ]
  },
  {
   "cell_type": "code",
   "execution_count": 9,
   "id": "73f9898b",
   "metadata": {},
   "outputs": [],
   "source": [
    "def AND(x1, x2):\n",
    "    inputs = [x1, x2]\n",
    "    weights = [1,1]\n",
    "    threshold = 2\n",
    "    return mac_culloch_pits(inputs, weights, threshold)"
   ]
  },
  {
   "cell_type": "code",
   "execution_count": 10,
   "id": "a7841d13",
   "metadata": {},
   "outputs": [
    {
     "name": "stdout",
     "output_type": "stream",
     "text": [
      "AND(0,0) =  0\n",
      "AND(0,1) =  0\n",
      "AND(1,0) =  0\n",
      "AND(1,1) =  1\n"
     ]
    }
   ],
   "source": [
    "print(\"AND(0,0) = \", AND(0,0))\n",
    "print(\"AND(0,1) = \", AND(0,1))\n",
    "print(\"AND(1,0) = \", AND(1,0))\n",
    "print(\"AND(1,1) = \", AND(1,1),)"
   ]
  },
  {
   "cell_type": "markdown",
   "id": "101f3292",
   "metadata": {},
   "source": [
    "# OR "
   ]
  },
  {
   "cell_type": "code",
   "execution_count": 21,
   "id": "bbb98e4a",
   "metadata": {},
   "outputs": [],
   "source": [
    "def OR(x1,x2):\n",
    "    inputs = [x1,x2]\n",
    "    weights = [1,1]\n",
    "    threshold = 2\n",
    "    return mac_culloch_pits(inputs, weights, threshold)\n"
   ]
  },
  {
   "cell_type": "code",
   "execution_count": 15,
   "id": "61eed255",
   "metadata": {},
   "outputs": [
    {
     "name": "stdout",
     "output_type": "stream",
     "text": [
      "OR(0,0) =  0\n",
      "OR(0,1) =  0\n",
      "OR(1,0) =  0\n",
      "OR(1,1) =  1\n"
     ]
    }
   ],
   "source": [
    "print(\"OR(0,0) = \", OR(0,0))\n",
    "print(\"OR(0,1) = \", OR(0,1))\n",
    "print(\"OR(1,0) = \", OR(1,0))\n",
    "print(\"OR(1,1) = \", OR(1,1),)"
   ]
  },
  {
   "cell_type": "code",
   "execution_count": null,
   "id": "01bb3eb6",
   "metadata": {},
   "outputs": [],
   "source": []
  }
 ],
 "metadata": {
  "kernelspec": {
   "display_name": "Python 3 (ipykernel)",
   "language": "python",
   "name": "python3"
  },
  "language_info": {
   "codemirror_mode": {
    "name": "ipython",
    "version": 3
   },
   "file_extension": ".py",
   "mimetype": "text/x-python",
   "name": "python",
   "nbconvert_exporter": "python",
   "pygments_lexer": "ipython3",
   "version": "3.9.7"
  }
 },
 "nbformat": 4,
 "nbformat_minor": 5
}

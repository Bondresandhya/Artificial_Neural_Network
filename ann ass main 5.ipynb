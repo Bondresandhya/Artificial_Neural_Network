{
 "cells": [
  {
   "cell_type": "markdown",
   "id": "206e01bb",
   "metadata": {},
   "source": [
    "# Problem Statement:- \n",
    "### Implement Artificial Neural Network training process in Python by using Forward Propagation, Back Propagation."
   ]
  },
  {
   "cell_type": "code",
   "execution_count": 1,
   "id": "24bd52ba",
   "metadata": {},
   "outputs": [],
   "source": [
    "import numpy as np"
   ]
  },
  {
   "cell_type": "code",
   "execution_count": 2,
   "id": "c0d9b411",
   "metadata": {},
   "outputs": [],
   "source": [
    "X1 = np.array([[1, -1, 1, -1]])\n",
    "X2 = np.array([[-1, -1, 1, 1]])\n",
    "X3 = np.array([[1, 1, -1, -1]])\n",
    "X4 = np.array([[1, 1, 1, 1]])\n",
    "\n",
    "\n",
    "\n",
    "# X1 = np.array([[1, 1, 1, 1, 1, 1]])\n",
    "# X2 = np.array([[-1, -1, -1, -1, -1, -1]])\n",
    "# X3 = np.array([[1, -1, -1, 1, 1, 1]])\n",
    "# X4 = np.array([[1, 1, -1, -1, -1, -1]])\n",
    "\n",
    "X=[X1, X2, X3, X4]\n",
    "\n",
    "Y1 = np.array([[1 ,0 ,1]])\n",
    "Y2 = np.array([[1, 1, 1]])\n",
    "Y3 = np.array([[0, 1, 1]])\n",
    "Y4 = np.array([[1, 1, 0]])\n",
    "\n",
    "# Y1 = np.array([[1, 1, 1]])\n",
    "# Y2 = np.array([[-1, -1, -1]])\n",
    "# Y3 = np.array([[-1, 1, 1]])\n",
    "# Y4 = np.array([[1, -1, 1]])\n",
    "\n",
    "\n",
    "Y= [Y1, Y2, Y3, Y4]"
   ]
  },
  {
   "cell_type": "code",
   "execution_count": 3,
   "id": "93a7e2c3",
   "metadata": {},
   "outputs": [],
   "source": [
    "def calcWeight(X, Y):\n",
    "    return np.dot(X.T, Y)"
   ]
  },
  {
   "cell_type": "code",
   "execution_count": 4,
   "id": "1303f7d4",
   "metadata": {},
   "outputs": [],
   "source": [
    "def weights(X,Y):\n",
    "    weis=[]\n",
    "    for i in range(4):\n",
    "        weis.append(calcWeight(X[i], Y[i]))\n",
    "    print(weis)\n",
    "    return weis"
   ]
  },
  {
   "cell_type": "code",
   "execution_count": 5,
   "id": "6a7b231b",
   "metadata": {},
   "outputs": [
    {
     "name": "stdout",
     "output_type": "stream",
     "text": [
      "[array([[ 1,  0,  1],\n",
      "       [-1,  0, -1],\n",
      "       [ 1,  0,  1],\n",
      "       [-1,  0, -1]]), array([[-1, -1, -1],\n",
      "       [-1, -1, -1],\n",
      "       [ 1,  1,  1],\n",
      "       [ 1,  1,  1]]), array([[ 0,  1,  1],\n",
      "       [ 0,  1,  1],\n",
      "       [ 0, -1, -1],\n",
      "       [ 0, -1, -1]]), array([[1, 1, 0],\n",
      "       [1, 1, 0],\n",
      "       [1, 1, 0],\n",
      "       [1, 1, 0]])]\n"
     ]
    }
   ],
   "source": [
    "weis=weights(X,Y)"
   ]
  },
  {
   "cell_type": "code",
   "execution_count": 6,
   "id": "22ab570d",
   "metadata": {},
   "outputs": [],
   "source": [
    "def forward_aggregation(X,W):\n",
    "    result=[]\n",
    "    for i in range(len(X)):\n",
    "        result.append(X[i]@W[i])\n",
    "    return np.squeeze(result)"
   ]
  },
  {
   "cell_type": "code",
   "execution_count": 7,
   "id": "c3db85dd",
   "metadata": {},
   "outputs": [],
   "source": [
    "def activation(X):\n",
    "    X = np.array(X)\n",
    "    X[X > 0] = 1\n",
    "    X[X == 0] = 0\n",
    "    X[X < 0] = -1\n",
    "    return X"
   ]
  },
  {
   "cell_type": "code",
   "execution_count": 8,
   "id": "cab9f08f",
   "metadata": {},
   "outputs": [],
   "source": [
    "for_aggri = forward_aggregation(X, weis)"
   ]
  },
  {
   "cell_type": "code",
   "execution_count": 9,
   "id": "bcf32aa4",
   "metadata": {},
   "outputs": [
    {
     "data": {
      "text/plain": [
       "array([[4, 0, 4],\n",
       "       [4, 4, 4],\n",
       "       [0, 4, 4],\n",
       "       [4, 4, 0]])"
      ]
     },
     "execution_count": 9,
     "metadata": {},
     "output_type": "execute_result"
    }
   ],
   "source": [
    "for_aggri"
   ]
  },
  {
   "cell_type": "code",
   "execution_count": 10,
   "id": "bb08735d",
   "metadata": {},
   "outputs": [
    {
     "name": "stdout",
     "output_type": "stream",
     "text": [
      "[[1 0 1]\n",
      " [1 1 1]\n",
      " [0 1 1]\n",
      " [1 1 0]]\n"
     ]
    }
   ],
   "source": [
    "print(activation(for_aggri))"
   ]
  },
  {
   "cell_type": "code",
   "execution_count": 11,
   "id": "ba4b7a76",
   "metadata": {},
   "outputs": [],
   "source": [
    "def backward_aggregation(X,W):\n",
    "    result=[]\n",
    "    for i in range(len(X)):\n",
    "        result.append(W[i]@X[i].T)\n",
    "    return np.squeeze(result)"
   ]
  },
  {
   "cell_type": "code",
   "execution_count": 12,
   "id": "61e686c3",
   "metadata": {},
   "outputs": [],
   "source": [
    "back_aggri = backward_aggregation(Y, weis)"
   ]
  },
  {
   "cell_type": "code",
   "execution_count": 13,
   "id": "b5afc17d",
   "metadata": {},
   "outputs": [
    {
     "data": {
      "text/plain": [
       "array([[ 2, -2,  2, -2],\n",
       "       [-3, -3,  3,  3],\n",
       "       [ 2,  2, -2, -2],\n",
       "       [ 2,  2,  2,  2]])"
      ]
     },
     "execution_count": 13,
     "metadata": {},
     "output_type": "execute_result"
    }
   ],
   "source": [
    "back_aggri"
   ]
  },
  {
   "cell_type": "code",
   "execution_count": 14,
   "id": "cb9081ae",
   "metadata": {},
   "outputs": [
    {
     "name": "stdout",
     "output_type": "stream",
     "text": [
      "[[ 1 -1  1 -1]\n",
      " [-1 -1  1  1]\n",
      " [ 1  1 -1 -1]\n",
      " [ 1  1  1  1]]\n"
     ]
    }
   ],
   "source": [
    "print(activation(back_aggri))"
   ]
  },
  {
   "cell_type": "markdown",
   "id": "93867185",
   "metadata": {},
   "source": [
    "# ____________________________________________________________"
   ]
  },
  {
   "cell_type": "code",
   "execution_count": 15,
   "id": "7eb48619",
   "metadata": {},
   "outputs": [],
   "source": [
    "#inputs\n",
    "\n",
    "X1 = np.array([[1,-1,1,-1]])\n",
    "X2 = np.array([[-1,-1,1,1]])\n",
    "X3 = np.array([[1,1,-1,-1]])\n",
    "X4 = np.array([[1,1,1,1]])\n",
    "\n",
    "X = [X1,X2,X3,X4]\n",
    "\n",
    "Y1 = np.array([[1,0,1]])\n",
    "Y2 = np.array([[1,1,1]])\n",
    "Y3 = np.array([[0,1,1]])\n",
    "Y4 = np.array([[1,1,0]])\n",
    "\n",
    "\n",
    "Y = [Y1,Y2,Y3,Y4]"
   ]
  },
  {
   "cell_type": "code",
   "execution_count": 16,
   "id": "cf486e6f",
   "metadata": {},
   "outputs": [],
   "source": [
    "def calcweight(X,Y):\n",
    "    return np.dot(X.T,Y)\n"
   ]
  },
  {
   "cell_type": "code",
   "execution_count": 17,
   "id": "0d99937f",
   "metadata": {},
   "outputs": [],
   "source": [
    "def Weightss(X,Y):\n",
    "    weigh = []\n",
    "    for i in range(len(X)):\n",
    "        weigh.append(calcweight(X[i],Y[i]))\n",
    "        \n",
    "    return weigh"
   ]
  },
  {
   "cell_type": "code",
   "execution_count": 18,
   "id": "fd04c7ec",
   "metadata": {},
   "outputs": [],
   "source": [
    "weigh = Weightss(X,Y)"
   ]
  },
  {
   "cell_type": "code",
   "execution_count": 19,
   "id": "415ef9ce",
   "metadata": {},
   "outputs": [
    {
     "name": "stdout",
     "output_type": "stream",
     "text": [
      "[array([[ 1,  0,  1],\n",
      "       [-1,  0, -1],\n",
      "       [ 1,  0,  1],\n",
      "       [-1,  0, -1]]), array([[-1, -1, -1],\n",
      "       [-1, -1, -1],\n",
      "       [ 1,  1,  1],\n",
      "       [ 1,  1,  1]]), array([[ 0,  1,  1],\n",
      "       [ 0,  1,  1],\n",
      "       [ 0, -1, -1],\n",
      "       [ 0, -1, -1]]), array([[1, 1, 0],\n",
      "       [1, 1, 0],\n",
      "       [1, 1, 0],\n",
      "       [1, 1, 0]])]\n"
     ]
    }
   ],
   "source": [
    "print(weigh)"
   ]
  },
  {
   "cell_type": "code",
   "execution_count": 20,
   "id": "edbfa419",
   "metadata": {},
   "outputs": [],
   "source": [
    "#Forword Propagation\n",
    "\n",
    "def Forword_propagation(X,W):\n",
    "    result = []\n",
    "    for i in range(len(X)):\n",
    "        result.append(X[i]@W[i])\n",
    "    return np.squeeze(result)\n"
   ]
  },
  {
   "cell_type": "code",
   "execution_count": 21,
   "id": "5407f8af",
   "metadata": {},
   "outputs": [],
   "source": [
    "def Activation(X):\n",
    "    X = np.array(X)\n",
    "    X[X > 0] = 1\n",
    "    X[X == 0] = 0\n",
    "    X[X < 0] = -1\n",
    "    \n",
    "    return X"
   ]
  },
  {
   "cell_type": "code",
   "execution_count": 22,
   "id": "6b08e5ef",
   "metadata": {},
   "outputs": [],
   "source": [
    "for_agg = Forword_propagation(X,weigh)"
   ]
  },
  {
   "cell_type": "code",
   "execution_count": 23,
   "id": "acefef5b",
   "metadata": {},
   "outputs": [
    {
     "name": "stdout",
     "output_type": "stream",
     "text": [
      "[[1 0 1]\n",
      " [1 1 1]\n",
      " [0 1 1]\n",
      " [1 1 0]]\n"
     ]
    }
   ],
   "source": [
    "print(Activation(for_agg))"
   ]
  },
  {
   "cell_type": "code",
   "execution_count": 24,
   "id": "b5005b95",
   "metadata": {},
   "outputs": [],
   "source": [
    "# Backword Propagation\n",
    "\n",
    "\n",
    "def Backword_aggregation(X,W):\n",
    "    result = []\n",
    "    for i in range(len(X)):\n",
    "        result.append(W[i]@X[i].T)\n",
    "    return np.squeeze(result)\n"
   ]
  },
  {
   "cell_type": "code",
   "execution_count": 25,
   "id": "f436becf",
   "metadata": {},
   "outputs": [],
   "source": [
    "back_agg = Backword_aggregation(Y,weigh)"
   ]
  },
  {
   "cell_type": "code",
   "execution_count": 26,
   "id": "7466238c",
   "metadata": {},
   "outputs": [
    {
     "name": "stdout",
     "output_type": "stream",
     "text": [
      "[[ 1 -1  1 -1]\n",
      " [-1 -1  1  1]\n",
      " [ 1  1 -1 -1]\n",
      " [ 1  1  1  1]]\n"
     ]
    }
   ],
   "source": [
    "print(Activation(back_agg))"
   ]
  }
 ],
 "metadata": {
  "kernelspec": {
   "display_name": "Python 3 (ipykernel)",
   "language": "python",
   "name": "python3"
  },
  "language_info": {
   "codemirror_mode": {
    "name": "ipython",
    "version": 3
   },
   "file_extension": ".py",
   "mimetype": "text/x-python",
   "name": "python",
   "nbconvert_exporter": "python",
   "pygments_lexer": "ipython3",
   "version": "3.9.7"
  }
 },
 "nbformat": 4,
 "nbformat_minor": 5
}

{
 "cells": [
  {
   "cell_type": "markdown",
   "id": "d85c54d5",
   "metadata": {},
   "source": [
    "# Problem Statement:-\n",
    "### Create a Neural network architecture from scratch in Python and use it to do multi-class classification on any data. \n",
    "### Parameters to be considered while creating the neural network from scratch are specified as: \n",
    "### (1) No of hidden layers : 1 or more \n",
    "### (2) No. of neurons in hidden layer: 100 \n",
    "### (3) Non-linearity in the layer : Relu \n",
    "### (4) Use more than 1 neuron in the output layer. Use a suitable threshold value .Use appropriate  Optimisation algorithm  "
   ]
  },
  {
   "cell_type": "code",
   "execution_count": 1,
   "id": "c5a4cc79",
   "metadata": {},
   "outputs": [],
   "source": [
    "import numpy as np\n",
    "from sklearn import datasets\n",
    "from sklearn.model_selection import train_test_split\n",
    "from sklearn.preprocessing import OneHotEncoder"
   ]
  },
  {
   "cell_type": "code",
   "execution_count": 2,
   "id": "b50b7a0b",
   "metadata": {},
   "outputs": [],
   "source": [
    "class Neural_network:\n",
    "    def __init__(self, input_size, hidden_size, output_size, learning_rate):\n",
    "        self.input_size = input_size\n",
    "        self.hidden_size = hidden_size\n",
    "        self.output_size = output_size\n",
    "        self.learning_rate = learning_rate\n",
    "        \n",
    "        self.W1 = np.random.randn(self.input_size, self.hidden_size)\n",
    "        self.W2 = np.random.randn(self.hidden_size, self.output_size)\n",
    "        \n",
    "    def relu(self, x):\n",
    "        return np.maximum(0,x)\n",
    "    \n",
    "    def sigmoid(self, x):\n",
    "        return 1/(1+np.exp(-x))\n",
    "    \n",
    "    def relu_prime(self, x):\n",
    "        return ( x > 0 ) * 1\n",
    "    \n",
    "    def forward(self, inputs):\n",
    "        self.a1 = np.dot(inputs, self.W1)\n",
    "        self.z1 = self.sigmoid(self.a1)\n",
    "        self.a2 = np.dot(self.z1, self.W2)\n",
    "        z2 = self.sigmoid(self.a2)\n",
    "        \n",
    "        return z2\n",
    "    \n",
    "    def backward(self, x , y ,z2):\n",
    "        error2 = z2 - y \n",
    "        dw2 = np.dot(self.a1.T, error2)\n",
    "        error1 = np.dot(error2, self.W2.T) * self.relu_prime(self.z1)\n",
    "        dw1 = np.dot(x.T, error1)\n",
    "        \n",
    "        self.W1 -= learning_rate * dw1\n",
    "        self.W2 -= learning_rate * dw2\n",
    "        \n",
    "    def train(self, x, y):\n",
    "        z2 = self.forward(x)\n",
    "        self.backward(x, y, z2)\n",
    "\n",
    "        "
   ]
  },
  {
   "cell_type": "code",
   "execution_count": 3,
   "id": "f1783bbb",
   "metadata": {},
   "outputs": [],
   "source": [
    "# Load dataset\n",
    "\n",
    "iris = datasets.load_iris()\n",
    "x = iris.data\n",
    "y = iris.target.reshape(-1,1)\n",
    "\n",
    "encoder = OneHotEncoder(sparse = False)\n",
    "y = encoder.fit_transform(y)\n"
   ]
  },
  {
   "cell_type": "code",
   "execution_count": 4,
   "id": "f6339e67",
   "metadata": {},
   "outputs": [],
   "source": [
    "# Split the dataset\n",
    "\n",
    "x_train, x_test, y_train, y_test = train_test_split(x, y)"
   ]
  },
  {
   "cell_type": "code",
   "execution_count": 5,
   "id": "9768d152",
   "metadata": {},
   "outputs": [],
   "source": [
    "# Initialize \n",
    "\n",
    "input_size = 4\n",
    "hidden_size = 100\n",
    "output_size = 3\n",
    "learning_rate = 0.001"
   ]
  },
  {
   "cell_type": "code",
   "execution_count": 6,
   "id": "3d8945f5",
   "metadata": {},
   "outputs": [
    {
     "data": {
      "text/plain": [
       "0.7368421052631579"
      ]
     },
     "execution_count": 6,
     "metadata": {},
     "output_type": "execute_result"
    }
   ],
   "source": [
    "network = Neural_network(input_size, hidden_size, output_size, learning_rate)\n",
    "no_epochs = 10\n",
    "\n",
    "for i in range(no_epochs):\n",
    "    network.train(x_train, y_train)\n",
    "    \n",
    "z2 = network.forward(x_test)\n",
    "prediction = np.argmax(z2, axis = 1)\n",
    "accuracy = np.mean(prediction == np.argmax(y_test, axis = 1))\n",
    "accuracy"
   ]
  }
 ],
 "metadata": {
  "kernelspec": {
   "display_name": "Python 3 (ipykernel)",
   "language": "python",
   "name": "python3"
  },
  "language_info": {
   "codemirror_mode": {
    "name": "ipython",
    "version": 3
   },
   "file_extension": ".py",
   "mimetype": "text/x-python",
   "name": "python",
   "nbconvert_exporter": "python",
   "pygments_lexer": "ipython3",
   "version": "3.9.7"
  }
 },
 "nbformat": 4,
 "nbformat_minor": 5
}

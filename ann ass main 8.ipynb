{
 "cells": [
  {
   "cell_type": "markdown",
   "id": "e98f747f",
   "metadata": {},
   "source": [
    "# Problem Statement:-\n",
    "### Write a python program to illustrate ART neural network. \n"
   ]
  },
  {
   "cell_type": "code",
   "execution_count": 1,
   "id": "898a86a5",
   "metadata": {},
   "outputs": [],
   "source": [
    "import numpy as np"
   ]
  },
  {
   "cell_type": "code",
   "execution_count": 2,
   "id": "076a9951",
   "metadata": {},
   "outputs": [],
   "source": [
    "VP = 0.4\n",
    "LR = 2\n",
    "\n",
    "num_inputs = 4\n",
    "num_clusters = 3\n",
    "\n",
    "BU = np.full((num_inputs, num_clusters) , 1/(1+num_inputs))\n",
    "TD = np.ones((num_clusters , num_inputs))\n"
   ]
  },
  {
   "cell_type": "code",
   "execution_count": 3,
   "id": "06e29d33",
   "metadata": {},
   "outputs": [
    {
     "name": "stdout",
     "output_type": "stream",
     "text": [
      "[[0.2 0.2 0.2]\n",
      " [0.2 0.2 0.2]\n",
      " [0.2 0.2 0.2]\n",
      " [0.2 0.2 0.2]]\n"
     ]
    }
   ],
   "source": [
    "print(BU)"
   ]
  },
  {
   "cell_type": "code",
   "execution_count": 4,
   "id": "bcd27dc8",
   "metadata": {},
   "outputs": [
    {
     "name": "stdout",
     "output_type": "stream",
     "text": [
      "[[1. 1. 1. 1.]\n",
      " [1. 1. 1. 1.]\n",
      " [1. 1. 1. 1.]]\n"
     ]
    }
   ],
   "source": [
    "print(TD)"
   ]
  },
  {
   "cell_type": "code",
   "execution_count": 10,
   "id": "a85ade66",
   "metadata": {},
   "outputs": [],
   "source": [
    "def ART(inputs):\n",
    "    for p in range(4):\n",
    "        s = inputs\n",
    "        s_norm = sum(s)\n",
    "        \n",
    "        \n",
    "        y1 = BU[0][0]*inputs[0] + BU[1][0]*inputs[1] + BU[2][0]*inputs[2]+ BU[3][0]*inputs[3]\n",
    "        y2 = BU[0][1]*inputs[0] + BU[1][1]*inputs[1] + BU[2][1]*inputs[2]+ BU[3][1]*inputs[3]\n",
    "        y3 = BU[0][2]*inputs[2] + BU[1][0]*inputs[2] + BU[2][2]*inputs[2]+ BU[3][2]*inputs[3]\n",
    "        \n",
    "        J =  0\n",
    "        if(y1  > y2 and y1 > y3):\n",
    "            J = 0\n",
    "        elif(y2 > y1 and y2 > y3):\n",
    "            J = 1\n",
    "        elif(y3 > y1 and y3 > y2):\n",
    "            J = 2\n",
    "        elif(y1 == y2 and y2 == y3):\n",
    "            J = 0\n",
    "        \n",
    "        x_matrix = []\n",
    "        \n",
    "        for i in range(len(s)):\n",
    "            x_matrix.append(s[i]*TD[J][i])\n",
    "        \n",
    "        \n",
    "        x_norm = sum(x_matrix)\n",
    "        \n",
    "        if(x_norm/s_norm > VP):\n",
    "            BU[0][J] = (LR * x_matrix[0]) / (LR - 1 + x_norm)\n",
    "            BU[1][J] = (LR * x_matrix[1]) / (LR - 1 + x_norm)\n",
    "            BU[2][J] = (LR * x_matrix[2]) / (LR - 1 + x_norm)\n",
    "            BU[3][J] = (LR * x_matrix[3]) / (LR - 1 + x_norm)\n",
    "        \n",
    "            TD[J][0] = BU[0][J]\n",
    "            TD[J][1] = BU[1][J]\n",
    "            TD[J][2] = BU[2][J]\n",
    "            TD[J][3] = BU[3][J]\n",
    "            \n",
    "        \n",
    "    return J\n",
    "        "
   ]
  },
  {
   "cell_type": "code",
   "execution_count": 6,
   "id": "03d6b895",
   "metadata": {},
   "outputs": [],
   "source": [
    "def test(inputs):\n",
    "    s = inputs\n",
    "    s_norm = sum(s)\n",
    "    xx = sum(inputs)\n",
    "    \n",
    "    y1 = BU[0][0]*inputs[0] + BU[1][0]*inputs[1] + BU[2][0]*inputs[2]+ BU[3][0]*inputs[3]\n",
    "    y2 = BU[0][1]*inputs[0] + BU[1][1]*inputs[1] + BU[2][1]*inputs[2]+ BU[3][1]*inputs[3]\n",
    "    y3 = BU[0][2]*inputs[2] + BU[1][0]*inputs[2] + BU[2][2]*inputs[2]+ BU[3][2]*inputs[3]\n",
    "        \n",
    "    j = 0\n",
    "    if(y1 > y2 and y1>y3):\n",
    "            j=0\n",
    "    elif(y2 > y1 and y2>y3):\n",
    "            j=1  \n",
    "    elif(y3 > y2 and y3>y1):\n",
    "            j=2\n",
    "    elif(y1==y2 and y2==y3):\n",
    "            j=0\n",
    "        \n",
    "    return j\n",
    "    "
   ]
  },
  {
   "cell_type": "code",
   "execution_count": 7,
   "id": "78ea07c8",
   "metadata": {},
   "outputs": [],
   "source": [
    "inputss = [[0,0,1,1],[0,0,1,0],[1,0,0,1],[0,1,0,0],[1,0,1,0],[0,1,0,1],[0,1,1,0],[0,1,1,1],[1,0,0,0],[0,0,0,1]]"
   ]
  },
  {
   "cell_type": "code",
   "execution_count": 8,
   "id": "4576a1de",
   "metadata": {},
   "outputs": [
    {
     "name": "stdout",
     "output_type": "stream",
     "text": [
      "2\n",
      "2\n",
      "0\n",
      "1\n",
      "2\n",
      "1\n",
      "1\n",
      "1\n",
      "0\n",
      "0\n"
     ]
    }
   ],
   "source": [
    "for i in inputss:\n",
    "    print(ART(i))"
   ]
  },
  {
   "cell_type": "code",
   "execution_count": 9,
   "id": "95446654",
   "metadata": {},
   "outputs": [
    {
     "data": {
      "text/plain": [
       "1"
      ]
     },
     "execution_count": 9,
     "metadata": {},
     "output_type": "execute_result"
    }
   ],
   "source": [
    "test([0,1,1,1])"
   ]
  }
 ],
 "metadata": {
  "kernelspec": {
   "display_name": "Python 3 (ipykernel)",
   "language": "python",
   "name": "python3"
  },
  "language_info": {
   "codemirror_mode": {
    "name": "ipython",
    "version": 3
   },
   "file_extension": ".py",
   "mimetype": "text/x-python",
   "name": "python",
   "nbconvert_exporter": "python",
   "pygments_lexer": "ipython3",
   "version": "3.9.7"
  }
 },
 "nbformat": 4,
 "nbformat_minor": 5
}
